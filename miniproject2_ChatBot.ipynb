{
 "cells": [
  {
   "cell_type": "markdown",
   "metadata": {},
   "source": [
    "# Miniproject 2: Chatbot\n",
    "\n",
    "## Introduction\n",
    "\n",
    "### Description\n",
    "\n",
    "Developing a model employing ANN on real-world data requires going through several major steps, each of which with \n",
    "important design choices that directly impact the final results. \n",
    "In this project, we guide you through these choices starting from a large database of \n",
    "[conversations](http://parl.ai/downloads/personachat/personachat.tgz) to a functional chatbot. \n",
    "\n",
    "### Prerequisites\n",
    "\n",
    "- You should have a running installation of [tensorflow](https://www.tensorflow.org/install/) and [keras](https://keras.io/).\n",
    "- You should know the concepts \"recurrent neural networks\", \"LSTM\", \"training and validation data\", \"overfitting\" and \"early stopping\".\n",
    "\n",
    "### What you will learn\n",
    "\n",
    "- You will be guided through a data processing procedure and understand the importance of design choices in ANN modeling\n",
    "- You will learn how to define recurrent neural networks in keras and fit them to data.\n",
    "- You will be guided through a prototyping procedure for the application of deep learning to a specific domain.\n",
    "- You will get in contact with concepts discussed in the lecture, like \"overfitting\", \"LSTM network\", and \"Generative model\".\n",
    "- You will learn to be more patient :) Some fits may take your computer quite a bit of time; run them over night and make sure you save (and load) your data and models.\n",
    "\n",
    "### Evaluation criteria\n",
    "\n",
    "The evaluation is (mostly) based on the figures you submit and your answer sentences. \n",
    "We will only do random tests of your code and not re-run the full notebook. \n",
    "Please ensure that your notebook is fully executed before handing it in. \n",
    "\n",
    "### Submission \n",
    "\n",
    "You should submit your notebook through the Moodle page submission tool. You should work in teams of two people and each member should submit the same notebook to Moodle.\n",
    "\n"
   ]
  },
  {
   "cell_type": "markdown",
   "metadata": {},
   "source": [
    "## Functions and imports\n",
    "\n",
    "For your convenience we import some libraries and provide some functions below. Fill in your names, sciper numbers and run the following cell."
   ]
  },
  {
   "cell_type": "code",
   "execution_count": 1,
   "metadata": {
    "scrolled": true
   },
   "outputs": [
    {
     "name": "stderr",
     "output_type": "stream",
     "text": [
      "Using TensorFlow backend.\n"
     ]
    }
   ],
   "source": [
    "names = {'student_1': \"Manana Lortkipanidze\",\n",
    "         'student_2': \"Devavrat Tomar\"}\n",
    "\n",
    "sciper = {'student_1': 263851, \n",
    "          'student_2': 295271}\n",
    "\n",
    "seed = sciper['student_1'] + sciper['student_2']\n",
    "\n",
    "%matplotlib inline\n",
    "\n",
    "import numpy as np\n",
    "import matplotlib.pyplot as plt\n",
    "import matplotlib.ticker as ticker\n",
    "import os, sys\n",
    "import copy\n",
    "from random import randint\n",
    "\n",
    "plt.rcParams['font.size'] = 28\n",
    "plt.style.use('ggplot')\n",
    "plt.rcParams[\"axes.grid\"] = False\n",
    "c = plt.rcParams['axes.prop_cycle'].by_key()['color']\n",
    "\n",
    "import keras\n",
    "from keras.models import Model, load_model\n",
    "from keras.layers import Input, Masking, TimeDistributed, Dense, Concatenate, Dropout, LSTM, GRU, SimpleRNN, Bidirectional, Embedding, BatchNormalization\n",
    "from keras.optimizers import Adam\n",
    "from keras.utils import np_utils\n",
    "from keras.preprocessing.sequence import pad_sequences\n",
    "from keras.callbacks import ModelCheckpoint, EarlyStopping\n",
    "from keras.utils import to_categorical\n",
    "\n",
    "def getRawDataFromFile(datapath=\"data/personachat/\", file=\"train_both_revised.txt\"):\n",
    "    f = open(datapath+file)\n",
    "    conversations = []\n",
    "    current_conversation = []\n",
    "    for l, line in enumerate(f):\n",
    "        if \"persona:\" in line:\n",
    "            if len(current_conversation) > 1:\n",
    "                conversations.append(current_conversation)\n",
    "            current_conversation = [] \n",
    "            continue\n",
    "        #remove numberings\n",
    "        processed_line = line.split(' ')\n",
    "        processed_line = \" \".join(processed_line[1:])\n",
    "        line = processed_line\n",
    "\n",
    "        conv = line.split('\\t')    \n",
    "        q = conv[0]\n",
    "        a = conv[1]\n",
    "        current_conversation.append(q)\n",
    "        current_conversation.append(a)\n",
    "    \n",
    "    return conversations "
   ]
  },
  {
   "cell_type": "code",
   "execution_count": 2,
   "metadata": {
    "scrolled": true
   },
   "outputs": [],
   "source": [
    "# helpers from mini-project 1\n",
    "import matplotlib.pyplot as plt\n",
    "\n",
    "def prepare_standardplot(title, xlabel):\n",
    "    fig, (ax1, ax2) = plt.subplots(1, 2)\n",
    "    fig.suptitle(title)\n",
    "    ax1.set_ylabel('categorical cross entropy')\n",
    "    ax1.set_xlabel(xlabel)\n",
    "    #ax1.set_yscale('log')\n",
    "    ax2.set_ylabel('accuracy [% correct]')\n",
    "    ax2.set_xlabel(xlabel)\n",
    "    return fig, ax1, ax2\n",
    "\n",
    "def finalize_standardplot(fig, ax1, ax2):\n",
    "    ax1handles, ax1labels = ax1.get_legend_handles_labels()\n",
    "    if len(ax1labels) > 0:\n",
    "        ax1.legend(ax1handles, ax1labels)\n",
    "    ax2handles, ax2labels = ax2.get_legend_handles_labels()\n",
    "    if len(ax2labels) > 0:\n",
    "        ax2.legend(ax2handles, ax2labels)\n",
    "    fig.tight_layout()\n",
    "    plt.subplots_adjust(top=0.9)\n",
    "\n",
    "def plot_history(history, title):\n",
    "    fig, ax1, ax2 = prepare_standardplot(title, 'epoch')\n",
    "    ax1.plot(history['loss'], label = \"training\")\n",
    "    ax1.plot(history['val_loss'], label = \"validation\")\n",
    "    ax2.plot(history['acc'], label = \"training\")\n",
    "    ax2.plot(history['val_acc'], label = \"validation\")\n",
    "    finalize_standardplot(fig, ax1, ax2)\n",
    "    ax1.grid()\n",
    "    ax2.grid()\n",
    "    fig.set_figheight(5)\n",
    "    fig.set_figwidth(15)\n",
    "    return fig"
   ]
  },
  {
   "cell_type": "markdown",
   "metadata": {
    "collapsed": true
   },
   "source": [
    "## Data visualization and preprocessing\n",
    "\n",
    "Here we will process and visualize the data.\n"
   ]
  },
  {
   "cell_type": "markdown",
   "metadata": {},
   "source": [
    "### Parse raw data \n",
    "\n",
    "Download the dataset on http://parl.ai/downloads/personachat/personachat.tgz. Unpack it and add it to your project folder. Read and run the getRawDataFromFile function (if needed, modify the default path). It extracts the conversations.\n",
    "\n",
    "**Output** Display two randomly selected conversations. [1 pt]"
   ]
  },
  {
   "cell_type": "code",
   "execution_count": 3,
   "metadata": {
    "scrolled": true
   },
   "outputs": [],
   "source": [
    "conversations = getRawDataFromFile()"
   ]
  },
  {
   "cell_type": "code",
   "execution_count": 4,
   "metadata": {
    "scrolled": true
   },
   "outputs": [
    {
     "name": "stdout",
     "output_type": "stream",
     "text": [
      "Two randomly selected conversations: \n",
      "['hey , want to get dressed up and go clubbing . girlfriend wo not go with me .', 'no thanks , i have to go to work tommorrow , office', 'bummer . i need more hours getting a operation soon .', 'your wierd , enjoying my bed with my 3 cats eating a taco', 'i am weird ? you are sharing your dinner with cats .', 'and you want to go clubbing on a tueday , taco are good', 'hey , margaritas and tacos . yummy', 'in a pool swimming sounds good to me', 'i love swimming but i have to wait until i get my belly button fixed .', 'damn that is a bummer ,', 'my girlfriend doe not understand why i need this operation', 'i would not either , but its ok , being a secretary you meet alot people', 'well if you meet anyone who likes to go clubbing hook me up .', 'your funny , maybe one day']\n",
      "['how are you doing this evening', 'well thank you , just planning my trip to paris . how are you ?', 'that is great ! i wish i could go but i am a kindergarten teacher so i am poor lol', 'teaching must be more exciting than the pharmaceutical industry though', 'that must be exciting as well , my class is quite large , 26 kids so i stay busy', 'my one sister teaches middle school in san francisco but her class is roughly 10 students .', 'at least the children get one on one attention . my school is very large !', 'you must have to be very organized to keep track of everyone then right ?', 'for sure ! its a 24 7 job , i cherish my free time lol', 'what do you enjoy doing in your free time ?', 'i really like kayaking , what about yourself', 'i love travelling and strangely enough , visiting home with my family .', 'where do you like to travel to ?', 'anywhere that i can feel completely out of my comfort zone . do you travel ?']\n"
     ]
    }
   ],
   "source": [
    "random_int = np.random.randint(0, len(conversations), 2)\n",
    "# Displaying conversation \n",
    "print(\"Two randomly selected conversations: \\n{}\\n{}\".format(conversations[random_int[0]], conversations[random_int[1]]))"
   ]
  },
  {
   "cell_type": "markdown",
   "metadata": {},
   "source": [
    "### Extract word tokens\n",
    "\n",
    "Let's start looking at our data. \n",
    "\n",
    "**Code** Compute the set of unique words (dictionary) in all sentences along with the number of occurences of each of these words. HINT: each word is separated by a space character, use the python string.split(' ') function to separate words. Consider punctuations as 'words'. [1 pt]\n",
    "\n",
    "**Figure** In a bar plot, show the first 75 most frequent words (x-axis) and their number of occurences (y-axis). [1 pt]\n",
    "\n",
    "**Figure** In another bar plot, show the 75 least frequent words (x-axis) and their number of occurences (y-axis). [1 pt] \n",
    "\n",
    "**Figure** In a log-log scale, plot the sorted word index (x-axis) vs their respective count (y-axis). [1 pt]\n",
    "\n",
    "**Question** Relate the sorted word count distribution with Zipf's law.\n",
    "Argue using the log-log plot. [1 pt]\n",
    "\n",
    "**Answer** Zip's law suggests that rank of a word is inversely propotional to its frequency. There, such relationship should result in a linear relationship on log-log scale with negative slope $frequency$ ~ $\\frac{1}{rank^n}$. As we can see from out plot we have approximately line (with negative slope). Thus, we can say that Zip's law approximately holds. However, we can observe nonlinearity(oscillations) at the end which usually can disappear with cumulative frequency distribution.\n",
    "\n",
    "**Question** How many words appear only once in the entire dataset? [1 pt]\n",
    "\n",
    "**Answer** 7080 words appeared only once.\n",
    "\n"
   ]
  },
  {
   "cell_type": "markdown",
   "metadata": {},
   "source": [
    "<b>Code Compute the set of unique words (dictionary) in all sentences along with the number of occurences of each of these words. HINT: each word is separated by a space character, use the python string.split(' ') function to separate words. Consider punctuations as 'words'. [1 pt] </b>"
   ]
  },
  {
   "cell_type": "code",
   "execution_count": 5,
   "metadata": {
    "scrolled": true
   },
   "outputs": [],
   "source": [
    "def get_word_dictionary(conversations):\n",
    "    \"\"\"\n",
    "    Computes the set of unique words (dictionary) in all sentences along with their number of occurences.\n",
    "    \n",
    "    :param conversations: List of all conversations\n",
    "    \"\"\"\n",
    "    word_dict = {}\n",
    "        \n",
    "    print(\"Creating dictionary\")\n",
    "    # First we need to extract all sentences from conversations\n",
    "    for conversation in conversations:\n",
    "        for sentence in conversation:\n",
    "            words = sentence.split(' ')\n",
    "            for word in words:\n",
    "                if word in word_dict:\n",
    "                    word_dict[word] += 1\n",
    "                else:\n",
    "                    word_dict[word] = 1\n",
    "                    \n",
    "                    \n",
    "    print(\"Number of unique words: %d\"%len(word_dict))\n",
    "    \n",
    "    return word_dict"
   ]
  },
  {
   "cell_type": "code",
   "execution_count": 6,
   "metadata": {
    "scrolled": false
   },
   "outputs": [
    {
     "name": "stdout",
     "output_type": "stream",
     "text": [
      "Creating dictionary\n",
      "Number of unique words: 18673\n"
     ]
    }
   ],
   "source": [
    "word_dictionary = get_word_dictionary(conversations)\n",
    "sorted_word_dictionary = sorted(word_dictionary.items(), key=lambda kv: kv[1], reverse=True)"
   ]
  },
  {
   "cell_type": "markdown",
   "metadata": {},
   "source": [
    "<b>Figure: In a bar plot, show the first 75 most frequent words (x-axis) and their number of occurences (y-axis). [1 pt]</b>"
   ]
  },
  {
   "cell_type": "code",
   "execution_count": 7,
   "metadata": {
    "scrolled": true
   },
   "outputs": [],
   "source": [
    "def plot_bar_tuples(list_tuples, title, x_label, y_label, fig_size=(15,8)):\n",
    "    \"\"\"\n",
    "    Create bar chart with vertical labels on x-axis\n",
    "    \n",
    "    :param list_tuples: labels with their corresponding count\n",
    "    :param title:       title of the plot\n",
    "    :param x_label:     label for the x-axis\n",
    "    :param y_label:     label for the y-axis\n",
    "    :param fig_size:    size of the figure, optional\n",
    "    \"\"\"\n",
    "    plt.figure(figsize=fig_size)\n",
    "    x , y = zip(*list_tuples)\n",
    "    x_pos = np.arange(len(list_tuples))\n",
    "    plt.bar(x_pos, y, align='center', alpha=0.5)\n",
    "    plt.xticks(x_pos, x, rotation='vertical')\n",
    "    plt.ylabel(y_label)\n",
    "    plt.xlabel(x_label)\n",
    "    plt.title(title)\n",
    "   \n",
    "    plt.show()   "
   ]
  },
  {
   "cell_type": "code",
   "execution_count": 8,
   "metadata": {
    "scrolled": true
   },
   "outputs": [
    {
     "data": {
      "image/png": "[encoded data removed]",
      "text/plain": [
       "<Figure size 1080x576 with 1 Axes>"
      ]
     },
     "metadata": {
      "needs_background": "light"
     },
     "output_type": "display_data"
    }
   ],
   "source": [
    "plot_bar_tuples(sorted_word_dictionary[0:75], \"Most Frequent Words\", \"Words\", \"Frequency\")"
   ]
  },
  {
   "cell_type": "markdown",
   "metadata": {},
   "source": [
    "<b>Figure In another bar plot, show the 75 least frequent words (x-axis) and their number of occurences (y-axis). [1 pt] </b>"
   ]
  },
  {
   "cell_type": "code",
   "execution_count": 9,
   "metadata": {
    "scrolled": true
   },
   "outputs": [
    {
     "data": {
      "image/png": "[encoded data removed]",
      "text/plain": [
       "<Figure size 1080x216 with 1 Axes>"
      ]
     },
     "metadata": {
      "needs_background": "light"
     },
     "output_type": "display_data"
    }
   ],
   "source": [
    "plot_bar_tuples(sorted_word_dictionary[-75:], \"Least Frequent Words\", \"Frequency\", \"Words\", (15,3))"
   ]
  },
  {
   "cell_type": "markdown",
   "metadata": {},
   "source": [
    "<b>Figure In a log-log scale, plot the sorted word index (x-axis) vs their respective count (y-axis). [1 pt]</b>"
   ]
  },
  {
   "cell_type": "code",
   "execution_count": 10,
   "metadata": {
    "scrolled": true
   },
   "outputs": [],
   "source": [
    "def plot_log_log(data, title, x_label, y_label):\n",
    "    \"\"\"\n",
    "    Plot data on log-log axis\n",
    "    \n",
    "    :param data:      data to be plotted\n",
    "    :param title:     title of the figure\n",
    "    :param x_label:   label of the x-axis\n",
    "    :param y_label:   label of the y-axis\n",
    "    \"\"\"\n",
    "    fig, ax = plt.subplots(figsize=(15, 5))\n",
    "    fig.suptitle(title)\n",
    "    ax.set_yscale('log')\n",
    "    ax.set_xscale('log')\n",
    "    ax.set_ylabel(y_label)\n",
    "    ax.set_xlabel(x_label)\n",
    "    ax.set_ylim(1, max(data))\n",
    "    ax.set_xlim(1, max(data))\n",
    "    plt.gca().set_aspect('equal', adjustable='box')\n",
    "    ax.plot(data)"
   ]
  },
  {
   "cell_type": "code",
   "execution_count": 11,
   "metadata": {
    "scrolled": true
   },
   "outputs": [
    {
     "data": {
      "image/png": "[encoded data removed]",
      "text/plain": [
       "<Figure size 1080x360 with 1 Axes>"
      ]
     },
     "metadata": {
      "needs_background": "light"
     },
     "output_type": "display_data"
    }
   ],
   "source": [
    "plot_log_log([word_count[1] for word_count in sorted_word_dictionary],\n",
    "             \"Word Frequency vs Word Rank\", \"Word Rank\", \"Frequency\")"
   ]
  },
  {
   "cell_type": "markdown",
   "metadata": {},
   "source": [
    "<b>Question How many words appear only once in the entire dataset? [1 pt]</b>"
   ]
  },
  {
   "cell_type": "code",
   "execution_count": 12,
   "metadata": {
    "scrolled": true
   },
   "outputs": [],
   "source": [
    "# number of words with count one\n",
    "words_count_one = [word_count[0] for word_count in word_dictionary.items() if word_count[1] == 1]"
   ]
  },
  {
   "cell_type": "code",
   "execution_count": 13,
   "metadata": {
    "scrolled": true
   },
   "outputs": [
    {
     "name": "stdout",
     "output_type": "stream",
     "text": [
      "Number of words that occur only once: 7080 (37.92% of the whole vocabulary)\n"
     ]
    }
   ],
   "source": [
    "count_one_nb   = len(words_count_one)\n",
    "count_one_perc = len(words_count_one) * 100.0 / len(word_dictionary)\n",
    "print(\"Number of words that occur only once: %d (%0.2f%% of the whole vocabulary)\"%(count_one_nb, count_one_perc))"
   ]
  },
  {
   "cell_type": "markdown",
   "metadata": {},
   "source": [
    "### Filtering\n",
    "\n",
    "We suggest to filter your data by removing sentences containing rare words. \n",
    "\n",
    "\n",
    "**Code** To achieve that, you should create a new dataset where sentences containing rare words (words that occur less than N times in the dataset) are removed. Keep at least 50'000 sentences (depending on your computing power, you can keep more). \n",
    "HINT: Start by updating the dictionary accordingly and then remove any sentence that contains at least a single word that is not in the dictionary of words. [2 pts]\n",
    "\n",
    "**Question**: How much did you reduce the number of unique words with your rare event suppression procedure? [1 pt]\n",
    "    \n",
    "**Answer**: Removed 11807 words from total of 18673 words.\n",
    "\n",
    "**Question**: How many sentences are in your filtered and original dataset? [1 pt]\n",
    "\n",
    "**Answer**: 114615 sentences in filtered and 131424 sentences in an old dataset.\n",
    "\n",
    "**Question**: What is the impact on learning and generalization of removing sentences with rare words from your dataset? [2 pt]\n",
    "\n",
    "**Answer**:  ToDo run with and without and explain results with some theoretical knowledge. Draft: in case of next word prediction, you can not predict a word that is not in a dictionary"
   ]
  },
  {
   "cell_type": "markdown",
   "metadata": {},
   "source": [
    "<b>Code To achieve that, you should create a new dataset where sentences containing rare words (words that occur less than N times in the dataset) are removed. Keep at least 50'000 sentences (depending on your computing power, you can keep more). HINT: Start by updating the dictionary accordingly and then remove any sentence that contains at least a single word that is not in the dictionary of words. [2 pts]</b>"
   ]
  },
  {
   "cell_type": "code",
   "execution_count": 14,
   "metadata": {
    "scrolled": true
   },
   "outputs": [
    {
     "name": "stdout",
     "output_type": "stream",
     "text": [
      "Removed 13881 words from total of 18673 words\n"
     ]
    }
   ],
   "source": [
    "threshold=10\n",
    "filtered_dict = {k:v for k,v in word_dictionary.items() if v >= threshold}\n",
    "rare_words = {k for k,v in word_dictionary.items() if v < threshold}\n",
    "print(\"Removed %d words from total of %d words\"%(len(rare_words), len(word_dictionary)))"
   ]
  },
  {
   "cell_type": "code",
   "execution_count": 15,
   "metadata": {
    "scrolled": true
   },
   "outputs": [],
   "source": [
    "def contains_rare_word(sentence, rare_words):\n",
    "    \"\"\"\n",
    "    Checks if sentence contains any of the rare words\n",
    "    :param sentence:   Sentence to be checked\n",
    "    :param rare_words: List of the rare words\n",
    "    \n",
    "    :return:           Whether sentence contains any of the rare words\n",
    "    \"\"\"\n",
    "    for word in sentence:\n",
    "        if word in rare_words:\n",
    "            return True\n",
    "    return False\n",
    "\n",
    "def filter_dataset(conversations, rare_words):\n",
    "    \"\"\" \n",
    "    Returns filtered dataset containing sentences in which rare words do not accur\n",
    "    \n",
    "    :conversations: conversations dataset\n",
    "    :rare_words:    list of rare words\n",
    "    \n",
    "    :return:        filtered dataset\n",
    "    \"\"\"\n",
    "    \n",
    "    filtered_dataset = []\n",
    "    old_sentence_nb  = 0\n",
    "    filt_sentence_nb = 0\n",
    "    \n",
    "    for conversation in conversations:\n",
    "        filtered_conversation = []\n",
    "        for sentence in conversation:\n",
    "            split_sentence = sentence.split(\" \")\n",
    "            \n",
    "            if (not contains_rare_word(split_sentence, rare_words)):\n",
    "                filtered_conversation.append(split_sentence)\n",
    "        \n",
    "        if filtered_conversation: # If it is not empty\n",
    "            filtered_dataset.append(filtered_conversation)\n",
    "            \n",
    "        old_sentence_nb  += len(conversation)\n",
    "        filt_sentence_nb += len(filtered_conversation)\n",
    "        \n",
    "    print(\"Filtered %d out of %d sentences\"%(old_sentence_nb-filt_sentence_nb, old_sentence_nb))\n",
    "    print(\"%d sentences in filtered and %d sentences in an old dataset.\"%(filt_sentence_nb, old_sentence_nb))\n",
    "\n",
    "    return filtered_dataset"
   ]
  },
  {
   "cell_type": "code",
   "execution_count": 16,
   "metadata": {
    "scrolled": true
   },
   "outputs": [
    {
     "name": "stdout",
     "output_type": "stream",
     "text": [
      "Filtered 26936 out of 131424 sentences\n",
      "104488 sentences in filtered and 131424 sentences in an old dataset.\n"
     ]
    }
   ],
   "source": [
    "filtered_conversations = filter_dataset(conversations, rare_words)"
   ]
  },
  {
   "cell_type": "markdown",
   "metadata": {},
   "source": [
    "### Tokenization and padding\n",
    "\n",
    "Now you will transform our filtered data into a format that is understandable by an ANN. To achieve that, you should transform words to integers, where single integers in the range [1,size of the dictionary] are mapped to single words in your dictionary. This process is commonly named 'tokenization'. In addition, we will keep the value 0 to a specific artificial word 'PADD' that will be used to account for the variable length of sentences and add to each sentence a 'START' and an 'END' word. \n",
    "\n",
    "**Code** Start by adding the three artificial words to your dictionary (list of possible tokens) and then translate every sentences to a list of integers. \n",
    "HINT: use the Python List index() method. [2 pts]\n",
    "\n",
    "**Figure** Use the violinplot to show the density of tokenized sentences length. [1pt]\n",
    "\n",
    "**Code** From this figure, select a maximum number (=maxlen) of tokens for which most of the sentences have less. Padd (and eventually truncate) all sentences with the 'PADD' token (value 0 in the integer representation) until all tokenized sentences have the same length (maxlen).\n",
    "HINT: use the pad_sequences function from keras.preprocessing.sequence [2 pts]\n",
    "\n",
    "**Code** Check that you can recover the original sentence. Randomly select two sentences from your integer and padded representation and translate them back using your dictionary. [1 pt]"
   ]
  },
  {
   "cell_type": "markdown",
   "metadata": {
    "collapsed": true
   },
   "source": [
    "<b>Code Start by adding the three artificial words to your dictionary (list of possible tokens) and then translate every sentences to a list of integers. HINT: use the Python List index() method. [2 pts]</b>"
   ]
  },
  {
   "cell_type": "code",
   "execution_count": 17,
   "metadata": {
    "scrolled": true
   },
   "outputs": [],
   "source": [
    "def create_dict_mapping(dictionary):\n",
    "    \"\"\"\n",
    "    Creates an array from dictionary where index of an token is its mapping\n",
    "    \n",
    "    :param dictionary: dictionary to be mapped\n",
    "    \n",
    "    :return: mapping of the dictionary\n",
    "    \"\"\"\n",
    "    dict_mapping = ['PADD']\n",
    "    dict_mapping += list(dictionary)\n",
    "    dict_mapping.append('START')\n",
    "    dict_mapping.append('END')\n",
    "    \n",
    "    return dict_mapping\n",
    "    \n",
    "dict_mapping = create_dict_mapping(filtered_dict)"
   ]
  },
  {
   "cell_type": "code",
   "execution_count": 18,
   "metadata": {
    "scrolled": true
   },
   "outputs": [],
   "source": [
    "def map_conversations(conversations, dict_mapping):\n",
    "    \"\"\"\n",
    "    Maps words/tokens of conversation to its corresponding integers\n",
    "    \n",
    "    :param conversations:   conversation to be mapped\n",
    "    :param dict_mapping:    mapping of tokens defined by their index\n",
    "    \n",
    "    :return: mapped conversation\n",
    "    \"\"\"\n",
    "    \n",
    "    mapped_conversations = []\n",
    "    \n",
    "    for conversation in conversations:\n",
    "        mapped_conversation = []\n",
    "        for sentence in conversation:\n",
    "            mapped_sentence = [dict_mapping.index('START')]\n",
    "            for word in sentence:\n",
    "                mapped_sentence.append(dict_mapping.index(word))\n",
    "            mapped_sentence.append(dict_mapping.index('END'))\n",
    "            mapped_conversation.append(mapped_sentence)\n",
    "        mapped_conversations.append(mapped_conversation)\n",
    "    return mapped_conversations\n",
    "\n",
    "mapped_conversations = map_conversations(filtered_conversations, dict_mapping)"
   ]
  },
  {
   "cell_type": "markdown",
   "metadata": {},
   "source": [
    "<b>Figure: Use the violinplot to show the density of tokenized sentences length. [1pt]</b>"
   ]
  },
  {
   "cell_type": "code",
   "execution_count": 19,
   "metadata": {
    "scrolled": true
   },
   "outputs": [
    {
     "data": {
      "image/png": "[encoded data removed]",
      "text/plain": [
       "<Figure size 1080x360 with 1 Axes>"
      ]
     },
     "metadata": {
      "needs_background": "light"
     },
     "output_type": "display_data"
    }
   ],
   "source": [
    "import seaborn as sns\n",
    "\n",
    "fig, ax = plt.subplots(figsize=(15, 5))\n",
    "#plt.figure(figsize=(15, 5))\n",
    "plt.title(\"Violin Plot for density of tokenized senteces length\")\n",
    "sentence_length = [len(sentence) for conversation in mapped_conversations for sentence in conversation]\n",
    "sns.violinplot(x=sentence_length)\n",
    "start, end = (min(sentence_length), max(sentence_length))\n",
    "ax.xaxis.set_ticks(np.arange(start, end, 1))\n",
    "plt.show()"
   ]
  },
  {
   "cell_type": "markdown",
   "metadata": {},
   "source": [
    "<b> Code: From this figure, select a maximum number (=maxlen) of tokens for which most of the sentences have less. Padd (and eventually truncate) all sentences with the 'PADD' token (value 0 in the integer representation) until all tokenized sentences have the same length (maxlen). HINT: use the pad_sequences function from keras.preprocessing.sequence [2 pts] </b>"
   ]
  },
  {
   "cell_type": "code",
   "execution_count": 20,
   "metadata": {
    "scrolled": true
   },
   "outputs": [],
   "source": [
    "def standardize_conversations(conversations, max_tokens):\n",
    "    \"\"\"\n",
    "    Standardizes conversations so that each sentence has max_tokens tokens either padding or truncating\n",
    "    \n",
    "    :param conversations: conversations to be standardized\n",
    "    :param max_tokens:    number of tokens per sentence\n",
    "    \n",
    "    :return:              standardized conversations\n",
    "    \"\"\"\n",
    "    stand_convs = []\n",
    "    \n",
    "    for conversation in conversations:\n",
    "        stand_convs.append(pad_sequences(conversation, maxlen=max_tokens, padding='post', truncating='post'))    \n",
    "    return stand_convs"
   ]
  },
  {
   "cell_type": "code",
   "execution_count": 2,
   "metadata": {
    "scrolled": true
   },
   "outputs": [],
   "source": [
    "#ToDo ask the TAs about this \n",
    "max_tokens = 25"
   ]
  },
  {
   "cell_type": "code",
   "execution_count": 22,
   "metadata": {
    "scrolled": true
   },
   "outputs": [],
   "source": [
    "stand_convs = standardize_conversations(mapped_conversations, max_tokens)"
   ]
  },
  {
   "cell_type": "markdown",
   "metadata": {},
   "source": [
    "<b> Code Check that you can recover the original sentence. Randomly select two sentences from your integer and padded representation and translate them back using your dictionary. [1 pt] </b>"
   ]
  },
  {
   "cell_type": "code",
   "execution_count": 23,
   "metadata": {
    "scrolled": true
   },
   "outputs": [],
   "source": [
    "def recover_sentence(sentence, mapped_dict):\n",
    "    # remove padding\n",
    "    unpadded_sentence = [index for index in sentence if index != dict_mapping.index('PADD')]\n",
    "    # map integers back to words\n",
    "    word_sentence = [mapped_dict[index] for index in unpadded_sentence]\n",
    "    # remove start and end\n",
    "    return word_sentence[1:-1]"
   ]
  },
  {
   "cell_type": "code",
   "execution_count": 24,
   "metadata": {
    "scrolled": true
   },
   "outputs": [],
   "source": [
    "# original sentences \n",
    "sentences = [sentence for conversation in filtered_conversations for sentence in conversation]\n",
    "# standardizes sentences with tokenization, padding and length standardization\n",
    "std_sentences = np.array([sentence for conversation in stand_convs for sentence in conversation])"
   ]
  },
  {
   "cell_type": "code",
   "execution_count": 25,
   "metadata": {
    "scrolled": true
   },
   "outputs": [
    {
     "name": "stdout",
     "output_type": "stream",
     "text": [
      "Original Sentence: ['noah', 'i', 'am', 'saving', 'up', 'for', 'a', 'camera']\n",
      "Standardized Sentence: [4793 3897    8    9 1304   95   32   55 1247 4794    0    0    0    0\n",
      "    0    0    0    0    0    0    0    0    0    0    0]\n",
      "Reconstructed Sentence: ['noah', 'i', 'am', 'saving', 'up', 'for', 'a', 'camera'] \n",
      "\n",
      "Original Sentence: ['i', 'make', 'about', '35', 'million', 'a', 'year', '.', 'i', 'think', 'i', 'can', 'swing', 'a', 'small', 'place', '.']\n",
      "Standardized Sentence: [4793    8  222  134 1785 1231   55   58   19    8   78    8   83 4594\n",
      "   55  173  603   19 4794    0    0    0    0    0    0]\n",
      "Reconstructed Sentence: ['i', 'make', 'about', '35', 'million', 'a', 'year', '.', 'i', 'think', 'i', 'can', 'swing', 'a', 'small', 'place', '.'] \n",
      "\n"
     ]
    }
   ],
   "source": [
    "# reconstruct two random sentences\n",
    "for i in range(2):\n",
    "    index = randint(0, len(sentences))\n",
    "    print(\"Original Sentence: %s\"%sentences[index])\n",
    "    print(\"Standardized Sentence: %s\"%std_sentences[index])\n",
    "    print(\"Reconstructed Sentence: %s \\n\"%recover_sentence(std_sentences[index], dict_mapping))"
   ]
  },
  {
   "cell_type": "markdown",
   "metadata": {},
   "source": [
    "### Saving\n",
    "\n",
    "Now is a good time to save your data (end of processing). An example code using the pickle library is shown below.\n"
   ]
  },
  {
   "cell_type": "code",
   "execution_count": 3,
   "metadata": {
    "scrolled": true
   },
   "outputs": [],
   "source": [
    "import pickle\n",
    "\n",
    "def save_data():    \n",
    "    #save\n",
    "    with open(\"data.pkl\", \"wb\") as file:\n",
    "        pickle.dump([filtered_conversations, filtered_dict, dict_mapping, std_sentences], file)\n",
    "\n",
    "def load_data():\n",
    "    #load\n",
    "    with open(\"data.pkl\", \"rb\") as file:\n",
    "         return pickle.load(file)\n",
    "        \n",
    "#save_data()\n",
    "\n",
    "[filtered_conversations, filtered_dict, dict_mapping, std_sentences] = load_data()"
   ]
  },
  {
   "cell_type": "markdown",
   "metadata": {},
   "source": [
    "## Building and training generative models of language"
   ]
  },
  {
   "cell_type": "markdown",
   "metadata": {},
   "source": [
    "### RNN vs LSTM vs GRU \n",
    "\n",
    "Build, train and compare generative models of language based on RNNs with different recurrent units (SimpleRNN, GRU and LSTM). \n",
    "\n",
    "The target of the network will be to approximate the word transition probabilities Pr(word[n+1]|H[n]) with H[n]=f(word[:n]) being the hidden state of the network.  \n",
    "\n",
    "**code** You should complete the proposed model (using the Keras API rather than the Sequential model for more flexibility). Be sure to understand each line. The embedding layer allows to transform an integer to a dense vector. That would be our input to the recurrent network - each sentence is mapped to a sequence of vectors, each representing a single word. You can then design your own readout(s) and output layers. By default, use the proposed meta parameters. You can adapt them if you have more or less computing power (32 epochs should take around 30 minutes). [2 pts]\n",
    "\n",
    "**Question** How will your networks deal with the artificial word 'PADD' that you added at the end of each sentences  [2 pts]\n",
    "\n",
    "**Answer** We include a mask layer after the embedding layer (using argument mask_zero=True in Embedding keras layer) treating 'PADD' (integer 0) input as end of the sequence. This allows RNN to process sequences of arbitary length from 1 to max_token and discard padded inputs.\n",
    "\n",
    "**code** Then train three different networks with the same architecture but using different recurrent units (simpleRNN, GRU and LSTM). Save the learning history (training/validation loss and accuracy for each epoch) as well as the models. [1 pt]\n",
    "\n",
    "**Question** How can you use this network to approximate the word transition probabilities? What will be the inputs and targets of the network at each batch? Give the input/output tensor dimensions. [2 pts]\n",
    "\n",
    "**Answer** This network is modelled to predict next word given the previous  $n$ words in the sentence. Thus, we can treat the softmax output of the neural network as conditional probability distribution of $(n+1)^{th}$ word given the past $n$ words (i.e. transition probability of next word, given the past words).\n",
    "\n",
    "For each batch, the inputs are the integer word sequences and targets are the same word sequences but with one step delayed. Thus, the neural network learns to predict next word in the sentence given previous words.\n",
    "\n",
    "Input tensor dimension: [batch_size, max_time_step -1, 1]  \n",
    "Output tensor dimension: [batch_size, max_time_step -1, 1]  \n",
    "Where max_time_step is the length of a given sentence.\n",
    "\n",
    "**Figure** Show the learning curves (training and validation loss) for the different recurrent units. [1 pt]\n",
    "\n",
    "**Figure** Show the learning curves (training and validation accuracy) for the different recurrent units. [1 pt]\n",
    "\n",
    "**Question:** Which recurrent unit yields the best validation accuracy? Which is the fastest learner? [1 pt]\n",
    "\n",
    "**Answer**: \n",
    "\n",
    "**Question:** Do you observe an overfitting effect? Where and for which case? Give a possible explanation. [1 pt] \n",
    "\n",
    "**Answer**: \n",
    "\n",
    "**Question:** Suggest one option modifying your dataset to decrease overfitting. [1 pt]\n",
    "\n",
    "**Answer**: \n",
    "\n",
    "**Question:** Suggest one possible option modifying your network to decrease overfitting. [1 pt]\n",
    "\n",
    "**Answer**: \n",
    "\n",
    "**Question:** Suggest one possible option modifying the training modalities to counter overfitting. [1 pt]   \n",
    "\n",
    "**Answer**: "
   ]
  },
  {
   "cell_type": "markdown",
   "metadata": {},
   "source": [
    "<b>code You should complete the proposed model (using the Keras API rather than the Sequential model for more flexibility). Be sure to understand each line. The embedding layer allows to transform an integer to a dense vector. That would be our input to the recurrent network - each sentence is mapped to a sequence of vectors, each representing a single word. You can then design your own readout(s) and output layers. By default, use the proposed meta parameters. You can adapt them if you have more or less computing power (32 epochs should take around 30 minutes). [2 pts]</b>"
   ]
  },
  {
   "cell_type": "code",
   "execution_count": 4,
   "metadata": {
    "scrolled": true
   },
   "outputs": [
    {
     "name": "stdout",
     "output_type": "stream",
     "text": [
      "Size of dictionary: 4795\n"
     ]
    }
   ],
   "source": [
    "nb_tokens = len(dict_mapping)\n",
    "print(\"Size of dictionary: %d\"%nb_tokens)"
   ]
  },
  {
   "cell_type": "code",
   "execution_count": 5,
   "metadata": {
    "scrolled": true
   },
   "outputs": [],
   "source": [
    "#Meta-parameters\n",
    "embedding_size = 128\n",
    "hidden_size = 64\n",
    "dropout = 0.\n",
    "recurrent_dropout = 0.\n",
    "\n",
    "batch_size = 64\n",
    "epochs = 32\n",
    "validation_split = 0.2\n",
    "\n",
    "dataset_cut = -1"
   ]
  },
  {
   "cell_type": "code",
   "execution_count": 6,
   "metadata": {
    "scrolled": true
   },
   "outputs": [],
   "source": [
    "# input layers\n",
    "I = {}\n",
    "# embedding layers\n",
    "E = {}\n",
    "# hidden layers\n",
    "H = {}\n",
    "# readout\n",
    "R = {}\n",
    "# output \n",
    "Y = {}\n",
    "models = {}\n",
    "logs = {}"
   ]
  },
  {
   "cell_type": "code",
   "execution_count": 7,
   "metadata": {
    "scrolled": true
   },
   "outputs": [],
   "source": [
    "X = std_sentences\n",
    "# convert output to shape [batch_size, max_step, feature_size]\n",
    "T = std_sentences.reshape((std_sentences.shape[0], std_sentences.shape[1], 1))"
   ]
  },
  {
   "cell_type": "code",
   "execution_count": 8,
   "metadata": {
    "scrolled": true
   },
   "outputs": [],
   "source": [
    "def append_run_language_model(nb_tokens,\n",
    "                              input_len,\n",
    "                              embedding_size,\n",
    "                              hidden_size,\n",
    "                              n_hidden_layers,\n",
    "                              I, E, H, R, Y,\n",
    "                              models,\n",
    "                              logs,\n",
    "                              X, T,\n",
    "                              dropout=0.0,\n",
    "                              recurrent_dropout=0.0,\n",
    "                              early_stopping=False,\n",
    "                              embedding_weights=None,\n",
    "                              model_type='RNN',\n",
    "                              model_name=''):\n",
    "    \"\"\"\n",
    "    Appends models to the dictionary\n",
    "    \n",
    "    :param nb_tokens:             vocabulary size\n",
    "    :param input_len:             lenght of input sentences\n",
    "    :param embedding_size:        dimension of word embeddings\n",
    "    :param hidden_size:           output size of RNN/ neurons in recurrent hidden layers\n",
    "    :param n_hidden_layers:       number of recurrent hidden layers\n",
    "    :param I, E, H, R, Y:         dictionaries poiting to the model layers\n",
    "    :param models:                dictionary to append the trained model\n",
    "    :param logs:                  dictionary to store logs (train/val history)\n",
    "    :param x:                     input\n",
    "    :param T:                     target\n",
    "    :param dropout:               dropout probability in non recurrent layers\n",
    "    :param recurrent_dropout:     dropout probability in the recurrent layers\n",
    "    :param early_stopping:        Whether to use the early stopping technique\n",
    "    :param embedding_weights:     list of embeddings, otherwise embedding is learnt in this function\n",
    "    :param model_type:            type of a model, 'RNN' by default\n",
    "    :param model_name:            name of the model, final name will be model_type model_name\n",
    "    \"\"\"\n",
    "    \n",
    "    model_name = model_type + model_name\n",
    "    \n",
    "    # create an input layer\n",
    "    I[model_name] = Input(shape=(input_len-1,), name=\"input\")\n",
    "    \n",
    "    # if word embeddings are not given, create them otherwise create Embedding of the given weights\n",
    "    if embedding_weights is None:\n",
    "        E[model_name] = Embedding(nb_tokens,         # size of the vocabulary\n",
    "                                  embedding_size,    # dimension of word embedding\n",
    "                                  mask_zero=True,    # specify we have padding represented as 0s\n",
    "                                  name=\"embedding\",\n",
    "                                  input_length=input_len-1)(I[model_name]) # we pass the output of prev layer to the input\n",
    "    else:\n",
    "        E[model_name] = Embedding(nb_tokens,\n",
    "                                  embedding_size,\n",
    "                                  mask_zero=True,\n",
    "                                  weights=embedding_weights,\n",
    "                                  name=\"embedding\",\n",
    "                                  input_length=input_len-1,\n",
    "                                  trainable=False)(I[model_name])\n",
    "    if model_type == 'RNN':\n",
    "        rnn_cell = SimpleRNN\n",
    "    elif model_type == 'GRU':\n",
    "        rnn_cell = GRU\n",
    "    elif model_type == 'LSTM':\n",
    "        rnn_cell = LSTM\n",
    "    else:\n",
    "        raise Exception('model type is not defined')\n",
    "    \n",
    "    # output of the last layer\n",
    "    out = E[model_name]\n",
    "    \n",
    "    #create hidden recurrent layers\n",
    "    for _ in range(n_hidden_layers):\n",
    "        out = rnn_cell(hidden_size,\n",
    "                       dropout=dropout,\n",
    "                       recurrent_dropout=recurrent_dropout,\n",
    "                       return_sequences=True)(out)  # whether to return the last state in addition to the output\n",
    "    \n",
    "    H[model_name] = out\n",
    "    R[model_name] = TimeDistributed(Dense(embedding_size, activation='relu'), name='readout')(H[model_name])\n",
    "    #R[model_name] = TimeDistributed(Dropout(dropout))(R[model_name])\n",
    "    Y[model_name] = TimeDistributed(Dense(nb_tokens, activation='softmax'), name='output')(R[model_name])\n",
    "\n",
    "    models[model_name] = Model(inputs = [I[model_name]], outputs = [Y[model_name]])\n",
    "    \n",
    "    models[model_name].compile(\n",
    "        loss='sparse_categorical_crossentropy', # we needed to update keras since this function produces bug on latest version\n",
    "        optimizer=Adam(),\n",
    "        metrics=['acc'])\n",
    "    models[model_name].summary()\n",
    "    \n",
    "    print(X[:,:-1].shape, T[:,1:].shape)\n",
    "    \n",
    "    cb = [EarlyStopping(monitor='val_acc', min_delta=0.001, patience=2)] if early_stopping else []\n",
    "    \n",
    "    # ToDo why are we doing :dataset_cut??? ToDo remove dataset_cut\n",
    "    logs[model_name] = models[model_name].fit({'input': X[:,:-1]}, {'output': T[:,1:]}, \n",
    "                                              epochs=epochs,\n",
    "                                              validation_split=validation_split,\n",
    "                                              batch_size=batch_size,\n",
    "                                              callbacks=cb).history\n",
    "\n",
    "    #save logs\n",
    "    with open(model_type+\"model_\"+str(embedding_size)+'_'+str(hidden_size)+'_'+str(n_hidden_layers)+\"_log.pkl\", \"wb\") as file:\n",
    "        pickle.dump(logs[model_type], file)\n",
    "        \n",
    "    #save model\n",
    "    models[model_name].save(model_type+\"model_\"+str(embedding_size)+'_'+str(hidden_size)+'_'+str(n_hidden_layers))"
   ]
  },
  {
   "cell_type": "markdown",
   "metadata": {},
   "source": [
    "<b>code Then train three different networks with the same architecture but using different recurrent units (simpleRNN, GRU and LSTM). Save the learning history (training/validation loss and accuracy for each epoch) as well as the models. [1 pt] </b>"
   ]
  },
  {
   "cell_type": "code",
   "execution_count": null,
   "metadata": {
    "scrolled": false
   },
   "outputs": [
    {
     "name": "stdout",
     "output_type": "stream",
     "text": [
      "Model: \"model_1\"\n",
      "_________________________________________________________________\n",
      "Layer (type)                 Output Shape              Param #   \n",
      "=================================================================\n",
      "input (InputLayer)           (None, 24)                0         \n",
      "_________________________________________________________________\n",
      "embedding (Embedding)        (None, 24, 128)           613760    \n",
      "_________________________________________________________________\n",
      "simple_rnn_1 (SimpleRNN)     (None, 24, 64)            12352     \n",
      "_________________________________________________________________\n",
      "readout (TimeDistributed)    (None, 24, 128)           8320      \n",
      "_________________________________________________________________\n",
      "output (TimeDistributed)     (None, 24, 4795)          618555    \n",
      "=================================================================\n",
      "Total params: 1,252,987\n",
      "Trainable params: 1,252,987\n",
      "Non-trainable params: 0\n",
      "_________________________________________________________________\n",
      "(104488, 24) (104488, 24, 1)\n",
      "Train on 83590 samples, validate on 20898 samples\n",
      "Epoch 1/32\n"
     ]
    }
   ],
   "source": [
    "# Simple rnn model\n",
    "append_run_language_model(nb_tokens,\n",
    "                          max_tokens,\n",
    "                          embedding_size,\n",
    "                          hidden_size,\n",
    "                          1,\n",
    "                          I, E, H, R, Y,\n",
    "                          models,\n",
    "                          logs,\n",
    "                          X, T,\n",
    "                          dropout=0.5,\n",
    "                          recurrent_dropout=0.5,\n",
    "                          model_type='RNN')"
   ]
  },
  {
   "cell_type": "code",
   "execution_count": null,
   "metadata": {
    "scrolled": true
   },
   "outputs": [],
   "source": [
    "def load_model_logs(model_path):\n",
    "    #load RNN Model\n",
    "    with open(model_path, \"rb\") as file:\n",
    "        RNNmodel_log = pickle.load(file)\n",
    "    return RNNmodel_log"
   ]
  },
  {
   "cell_type": "code",
   "execution_count": null,
   "metadata": {
    "scrolled": false
   },
   "outputs": [],
   "source": [
    "#GRU model\n",
    "append_run_language_model(nb_tokens,\n",
    "                          max_tokens,\n",
    "                          embedding_size,\n",
    "                          hidden_size,\n",
    "                          1,\n",
    "                          I, E, H, R, Y,\n",
    "                          models,\n",
    "                          logs,\n",
    "                          X, T,\n",
    "                          dropout=0.5,\n",
    "                          recurrent_dropout=0.5,\n",
    "                          model_type='GRU')"
   ]
  },
  {
   "cell_type": "code",
   "execution_count": null,
   "metadata": {
    "scrolled": false
   },
   "outputs": [],
   "source": [
    "#LSTM model\n",
    "append_run_language_model(nb_tokens,\n",
    "                          max_tokens,\n",
    "                          embedding_size,\n",
    "                          hidden_size,\n",
    "                          1,\n",
    "                          I, E, H, R, Y,\n",
    "                          models,\n",
    "                          logs,\n",
    "                          X, T,\n",
    "                          dropout=0.5,\n",
    "                          recurrent_dropout=0.5,\n",
    "                          model_type='LSTM')"
   ]
  },
  {
   "cell_type": "markdown",
   "metadata": {},
   "source": [
    "<b>Figure Show the learning curves (training and validation loss) for the different recurrent units. [1 pt] </b>\n",
    "\n",
    "<b>Figure Show the learning curves (training and validation accuracy) for the different recurrent units. [1 pt] </b>"
   ]
  },
  {
   "cell_type": "code",
   "execution_count": null,
   "metadata": {
    "scrolled": true
   },
   "outputs": [],
   "source": [
    "# read saved logs\n",
    "RRN_logs  = load_model_logs(\"RNNmodel_128_64_1_log.pkl\")\n",
    "GRU_logs  = load_model_logs(\"GRUmodel_128_64_1_log.pkl\")\n",
    "LSTM_logs = load_model_logs(\"LSTMmodel_128_64_1_log.pkl\")"
   ]
  },
  {
   "cell_type": "code",
   "execution_count": null,
   "metadata": {
    "scrolled": true
   },
   "outputs": [],
   "source": [
    "fig_RNN = plot_history(RRN_logs, \"RNN learning curves\")"
   ]
  },
  {
   "cell_type": "code",
   "execution_count": null,
   "metadata": {
    "scrolled": false
   },
   "outputs": [],
   "source": [
    "fig_GRU = plot_history(GRU_logs, \"GRU learning curves\")"
   ]
  },
  {
   "cell_type": "code",
   "execution_count": null,
   "metadata": {
    "scrolled": true
   },
   "outputs": [],
   "source": [
    "fig_LSTM = plot_history(LSTM_logs, \"LSTM learning curves\")"
   ]
  },
  {
   "cell_type": "markdown",
   "metadata": {},
   "source": [
    "TODO: Plot learning curves without dropouts"
   ]
  },
  {
   "cell_type": "markdown",
   "metadata": {},
   "source": [
    "### Optimal network size\n",
    "\n",
    "Compare the learning curves for three networks with 64 (previous exercise), 128 and 256 GRUs (single layer) and one with two hidden layers of 64 GRUs. \n",
    "\n",
    "**Code** Build and train the networks. Apply EarlyStopping (monitor='val_acc', min_delta=0.001, patience=2). Use transfer learning, do not train from scratch your embedding layer, rather re-use the embedding layer from your best performing network in the last exercise. [4 pts]\n",
    "\n",
    "**Figure** Show the learning curves (training and validation loss) for the four models. [1 pt]\n",
    "\n",
    "**Figure** Show the learning curves (training and validation accuracy) for the four models. [1 pt]\n",
    "\n",
    "**Question** List and briefly explain the differences in the learning curves for the different models? [2 pts]\n",
    "\n",
    "**Answer**\n",
    "\n",
    "**Question** What effect had EarlyStopping? Give one advantage and one drawback. [2 pts]\n",
    "\n",
    "**Answer**\n",
    "\n",
    "**Question** What is your best model? Why? [1 pt]\n",
    "\n",
    "**Answer**\n",
    "\n"
   ]
  },
  {
   "cell_type": "code",
   "execution_count": null,
   "metadata": {
    "scrolled": true
   },
   "outputs": [],
   "source": [
    "I_GRU = {}\n",
    "E_GRU = {}\n",
    "H_GRU = {}\n",
    "R_GRU = {}\n",
    "Y_GRU = {}\n",
    "# Get weigths of the embedding layer of pretrained model\n",
    "embeddings_pre_trained = models['GRU'].layers[1].get_weights()"
   ]
  },
  {
   "cell_type": "code",
   "execution_count": null,
   "metadata": {
    "scrolled": false
   },
   "outputs": [],
   "source": [
    "append_run_language_model(nb_tokens,\n",
    "                          max_tokens,\n",
    "                          embedding_size,\n",
    "                          128,\n",
    "                          1,\n",
    "                          I_GRU, E_GRU, H_GRU , R_GRU, Y_GRU,\n",
    "                          models,\n",
    "                          logs,\n",
    "                          X, T,\n",
    "                          dropout=0.5,\n",
    "                          recurrent_dropout=0.5,\n",
    "                          early_stopping=True,\n",
    "                          embedding_weights=embeddings_pre_trained,\n",
    "                          model_type='GRU',\n",
    "                          model_name='128')"
   ]
  },
  {
   "cell_type": "code",
   "execution_count": null,
   "metadata": {
    "scrolled": false
   },
   "outputs": [],
   "source": [
    "append_run_language_model(nb_tokens,\n",
    "                          max_tokens,\n",
    "                          embedding_size,\n",
    "                          256,\n",
    "                          1,\n",
    "                          I_GRU, E_GRU, H_GRU , R_GRU, Y_GRU,\n",
    "                          models,\n",
    "                          logs,\n",
    "                          X, T,\n",
    "                          early_stopping=True,\n",
    "                          embedding_weights=embeddings_pre_trained,\n",
    "                          model_type='GRU',\n",
    "                          model_name='256')"
   ]
  },
  {
   "cell_type": "code",
   "execution_count": null,
   "metadata": {
    "scrolled": false
   },
   "outputs": [],
   "source": [
    "append_run_language_model(nb_tokens,\n",
    "                          max_tokens,\n",
    "                          embedding_size,\n",
    "                          64,\n",
    "                          2,\n",
    "                          I_GRU, E_GRU, H_GRU , R_GRU, Y_GRU,\n",
    "                          models,\n",
    "                          logs,\n",
    "                          X, T,\n",
    "                          early_stopping=True,\n",
    "                          embedding_weights=embeddings_pre_trained,\n",
    "                          model_type='GRU',\n",
    "                          model_name='64_2')"
   ]
  },
  {
   "cell_type": "markdown",
   "metadata": {},
   "source": [
    "<b>Figure Show the learning curves (training and validation loss) for the four models. [1 pt] </b>\n",
    "\n",
    "<b>Figure Show the learning curves (training and validation accuracy) for the four models. [1 pt]</b>"
   ]
  },
  {
   "cell_type": "markdown",
   "metadata": {},
   "source": [
    "### Generate sentences\n",
    "\n",
    "Now you will generate new sentences from your best performing model.\n",
    "\n",
    "**Code** To achieve that, use the provided sample function below to generate new sentences from your model. You should start by constructing a sentence that starts with the 'START' artificial word and all other words being the 'PADD' artificial word. Then sample the first word from the corresponding probabilities given by your model. Add this word to the sentence and continue like this until you sample the 'END' artificial word or the maximum sentence length. [2 pts]\n",
    "\n",
    "**Code** Generate 10 sentences for different sampling temperature in [0., 0.25, 0.5, 0.75, 1., 1.5., 2.]. [1 pt]\n",
    "\n",
    "**7 Figures** For each temperature, use matplotlib imshow to plot the probablities of every word in one generated sentence (and only these words) at each time step. y-axis should be the words that are present in the sentence. x-axis the timesteps and the imshow value the probabilities given by the model for all words in the sentence at each timestep. Use the a colormap where 0 is white, e.g. cmap='Greys'. [2 pts]\n",
    "\n",
    "**Code** Finally, seed your model with two different beginnings of max 4 words and let it generate 10 possible continuations (use sampling temperature of 1.). [2 pts]\n",
    "\n",
    "**Question** What is the effect of sampling temperature on the generated sentences? [1 pt]\n",
    "\n",
    "**Answer**\n",
    "\n",
    "**Question** In terms of sampling a probability distribution, what does a sampling temperature of 0 corresponds to? [1 pt] \n",
    "\n",
    "**Answer**\n",
    "\n",
    "**Question** In terms of sampling a probability distribution, what does a sampling temperature of 1. corresponds to? [1 pt] \n",
    "\n",
    "**Answer**\n",
    "\n",
    "**Question** In terms of sampling a probability distribution, what does a very high sampling temperature corresponds to? [1 pt]\n",
    "\n",
    "**Answer**\n",
    "\n",
    "**Question** Based on the plotted word probabilities, explain how a sentence is generated. [2 pts]\n",
    "\n",
    "**Answer**\n",
    "\n",
    "**Question** Do you observe timesteps with more than one word with non-zero probability? How do these probable words relate in terms of language? [1 pt]\n",
    "\n",
    "**Answer**"
   ]
  },
  {
   "cell_type": "markdown",
   "metadata": {},
   "source": [
    "<b> Code To achieve that, use the provided sample function below to generate new sentences from your model. You should start by constructing a sentence that starts with the 'START' artificial word and all other words being the 'PADD' artificial word. Then sample the first word from the corresponding probabilities given by your model. Add this word to the sentence and continue like this until you sample the 'END' artificial word or the maximum sentence length. [2 pts] </b>"
   ]
  },
  {
   "cell_type": "code",
   "execution_count": null,
   "metadata": {
    "scrolled": true
   },
   "outputs": [],
   "source": [
    "def sample(preds, temperature=1.):\n",
    "    # helper function to sample an index from a probability array\n",
    "    if temperature == 0.:\n",
    "        return np.argmax(preds)\n",
    "    preds = np.asarray(preds).astype('float64')\n",
    "    \n",
    "    # smoothing, adding small value for zero probabilities\n",
    "    preds = np.log(preds + 1e-8) / temperature\n",
    "    \n",
    "    exp_preds = np.exp(preds)\n",
    "    preds = exp_preds / np.sum(exp_preds)\n",
    "    probas = np.random.multinomial(1, preds, 1)\n",
    "    return np.argmax(probas)"
   ]
  },
  {
   "cell_type": "code",
   "execution_count": null,
   "metadata": {
    "scrolled": true
   },
   "outputs": [],
   "source": [
    "def generate_sentence(model, dict_mapping, max_tokens, temperature=1., sentence=[]):\n",
    "    \"\"\"\n",
    "    Generates new sentences from model\n",
    "    \n",
    "    :param model:         model for predictions\n",
    "    :pemperature:         temperature to be used for sampling\n",
    "    :sentence:            initial sentence given, created in method if None.\n",
    "                          don't add START or END symbol to initial sentence. sentence should be a list of tokens (str or mapped)\n",
    "    :dict_mapping:        list of vocabulary words where index of word gives its integer representation for embedding layer.\n",
    "    \"\"\"\n",
    "    \n",
    "    # store actual predicted words\n",
    "    word_sentence = sentence.copy()\n",
    "    word_mapping =  []\n",
    "    \n",
    "    # store prediction at each sentence position\n",
    "    all_preds = []\n",
    "    \n",
    "    # start predicting from this index\n",
    "    prediction_start = len(sentence)\n",
    "    \n",
    "    \n",
    "    # check type of sentence is empty list\n",
    "    if sentence and type(sentence[0] is str):\n",
    "        sentence = [dict_mapping.index(word) for word in sentence]\n",
    "    \n",
    "    sentence = [dict_mapping.index('START')] + sentence\n",
    "    sentence = pad_sequences([sentence], maxlen=max_tokens, padding='post', truncating='post')\n",
    "    \n",
    "    for i in range(prediction_start, max_tokens-1):\n",
    "        \n",
    "        # get predictions for the current sentence\n",
    "        preds = model.predict(sentence)\n",
    "        \n",
    "        # save predictions for words for i+1 th position\n",
    "        all_preds.append(preds[0][i])\n",
    "        \n",
    "        # sample the word prediciton for position i+1\n",
    "        next_word = sample(preds[0][i], temperature)\n",
    "        \n",
    "        # if the sentence end was predicted, end the process\n",
    "        if(next_word == dict_mapping.index('END')):\n",
    "            break\n",
    "        \n",
    "        # insert predicted word (integer mapping) into sentence\n",
    "        sentence[0, i+1] = next_word\n",
    "        \n",
    "        # save an actual predicted word\n",
    "        word_sentence.append(dict_mapping[next_word])\n",
    "        \n",
    "        # save the predicted word (its token)\n",
    "        word_mapping.append(next_word)\n",
    "               \n",
    "    # from all predictions select predictions only for words in the sentence\n",
    "    sentence_word_preds = np.array(all_preds)[:, word_mapping]\n",
    "    \n",
    "    return \" \".join(word_sentence), sentence_word_preds"
   ]
  },
  {
   "cell_type": "code",
   "execution_count": null,
   "metadata": {
    "scrolled": true
   },
   "outputs": [],
   "source": [
    "sen, preds = generate_sentence(models['RNN'], max_tokens=max_tokens-1, dict_mapping=dict_mapping)\n",
    "sen"
   ]
  },
  {
   "cell_type": "markdown",
   "metadata": {},
   "source": [
    "<b> Code Generate 10 sentences for different sampling temperature in [0., 0.25, 0.5, 0.75, 1., 1.5., 2.]. [1 pt] </b>"
   ]
  },
  {
   "cell_type": "code",
   "execution_count": null,
   "metadata": {
    "scrolled": true
   },
   "outputs": [],
   "source": [
    "def generate_sentences(model, max_tokens, temperatures, dict_mapping):\n",
    "    \"\"\"\n",
    "    Generate 10 senteces according to the model for each temperature in temperatures\n",
    "    \"\"\"\n",
    "\n",
    "    temp_sentences = dict()\n",
    "    temp_preds = dict()\n",
    "    \n",
    "    for temp in temperatures:\n",
    "        print(\"Temperature: %.2f\"%temp)\n",
    "        for i in range(10):\n",
    "            # generate a sentece according to the model and temperature\n",
    "            sentence, preds = generate_sentence(model, max_tokens=max_tokens-1, temperature=temp, dict_mapping=dict_mapping)\n",
    "            print(\"%d) %s\"%(i+1, sentence))\n",
    "            \n",
    "            if temp in temp_sentences:\n",
    "                temp_sentences[temp].append(sentence)\n",
    "                temp_preds[temp].append(preds)\n",
    "            else:\n",
    "                temp_sentences[temp] = [sentence]\n",
    "                temp_preds[temp] = [preds]\n",
    "    \n",
    "    return temp_sentences, temp_preds"
   ]
  },
  {
   "cell_type": "code",
   "execution_count": null,
   "metadata": {
    "scrolled": false
   },
   "outputs": [],
   "source": [
    "temperatures = np.arange(0, 2.1, 0.25)    \n",
    "temp_sentences, temp_preds = generate_sentences(models['RNN'], max_tokens, temperatures, dict_mapping=dict_mapping)"
   ]
  },
  {
   "cell_type": "markdown",
   "metadata": {},
   "source": [
    "<b> 7 Figures For each temperature, use matplotlib imshow to plot the probablities of every word in one generated sentence (and only these words) at each time step. y-axis should be the words that are present in the sentence. x-axis the timesteps and the imshow value the probabilities given by the model for all words in the sentence at each timestep. Use the a colormap where 0 is white, e.g. cmap='Greys'. [2 pts] </b>"
   ]
  },
  {
   "cell_type": "code",
   "execution_count": null,
   "metadata": {
    "scrolled": false
   },
   "outputs": [],
   "source": [
    "def plot_temp_predictions(temperatures, temp_preds, temp_sentences, sentence_nb = 1):\n",
    "    \n",
    "    for temp in temperatures:\n",
    "        # select sentence for temperature (the first one by default)\n",
    "        sentence = temp_sentences[temp][sentence_nb-1]\n",
    "        # select predictions for the corresponding sentence and temp\n",
    "        preds = temp_preds[temp][sentence_nb-1] #!!! prediction values of the same word might be more than once if the word\n",
    "                                                # accures several times in a sentence. We did so to observe diagonal prediction!\n",
    "        \n",
    "        print(\"Temperature: %.2f, Sentence: %s\"%(temp, sentence))\n",
    "\n",
    "        \n",
    "        plt.figure(figsize=(6,6))\n",
    "        plt.title(\"Predictions for temperature %.2f\"%temp)\n",
    "           \n",
    "        plt.imshow(np.transpose(preds), cmap='hot_r')  \n",
    "        \n",
    "        plt.xticks(np.arange(0, preds.shape[0]))\n",
    "        plt.xlabel(\"Positiont/Timestep\")\n",
    "        \n",
    "        plt.yticks(np.arange(0, preds.shape[0]), sentence.split())\n",
    "\n",
    "        plt.colorbar()\n",
    "        plt.show()\n",
    "        \n",
    "        #temp_preds[temp][sentence_nb-1]\n",
    "\n",
    "plot_temp_predictions(temperatures, temp_preds, temp_sentences)\n"
   ]
  },
  {
   "cell_type": "markdown",
   "metadata": {},
   "source": [
    "<b>Code Finally, seed your model with two different beginnings of max 4 words and let it generate 10 possible continuations (use sampling temperature of 1.). [2 pts]</b>"
   ]
  },
  {
   "cell_type": "code",
   "execution_count": null,
   "metadata": {
    "scrolled": true
   },
   "outputs": [],
   "source": [
    "def generate_continuations(model, sentences, dict_mapping, nb_cont = 10):\n",
    "    \n",
    "    for sentence in sentences:\n",
    "        print(\"Sentence: %s\"%sentence)\n",
    "        \n",
    "        for i in range(nb_cont):\n",
    "            pred_sentece, _ = generate_sentence(model,\n",
    "                                                dict_mapping,\n",
    "                                                temperature=1.0,\n",
    "                                                sentence=sentence)\n",
    "            print(\"Continuation %d) %s\"%(i+1, pred_sentece))"
   ]
  },
  {
   "cell_type": "code",
   "execution_count": null,
   "metadata": {
    "scrolled": true
   },
   "outputs": [],
   "source": [
    "my_sentence1 = [\"our\", \"teacher\", \"is\"]\n",
    "my_sentence2 = [\"i\", \"love\"]\n",
    "my_sentence3 = [\"our\",\"project\", \"is\"]\n",
    "my_sentences = [my_sentence1, my_sentence2, my_sentence3]\n",
    "\n",
    "generate_continuations(models['LSTM'], my_sentences, dict_mapping=dict_mapping)"
   ]
  },
  {
   "cell_type": "markdown",
   "metadata": {},
   "source": [
    "###  Word embedding visualization\n",
    "\n",
    "Here, you are asked to visualize the embedding layer. \n",
    "\n",
    "**Code** To do that, project in 2D the embedding vectors for different words. Use t-SNE, a projection that conserve the neighborhood relationships between vectors. HINT: Build a Keras model that takes as input a list of words and outputs a list of vector embeddings as learned by your best performing model. Use t-SNE dimensionality reduction (from sklearn.manifold import TSNE). [2 pts]\n",
    "\n",
    "**Figure** Plot the projection of the first 200 most frequent words in a 2D plot. On the plot, write the words. [2 pt] \n",
    "\n",
    "**Question** Do you observe clusters of words with similar meaning or role in language? Report three of them here. [1 pt]\n",
    "\n",
    "**Answer**\n",
    "\n",
    "**Question** Why is having similar vector representation for similar words a good approach for such models? Explain using the example clusters from before and argue in terms of prediction accuracy and/or generalization. [2 pts]\n",
    "\n",
    "**Answer**"
   ]
  },
  {
   "cell_type": "code",
   "execution_count": null,
   "metadata": {
    "scrolled": false
   },
   "outputs": [],
   "source": [
    "Input_embedding = Input(shape=(1,), name=\"input\")\n",
    "embedding_layer = Embedding(nb_tokens,\n",
    "                            embedding_size,\n",
    "                            mask_zero=True,\n",
    "                            weights=embeddings_pre_trained,\n",
    "                            name=\"embedding\",\n",
    "                            input_length=None,\n",
    "                            trainable=False)(Input_embedding)\n",
    "\n",
    "word_embedding_model = Model(inputs = [Input_embedding], outputs = [embedding_layer])"
   ]
  },
  {
   "cell_type": "code",
   "execution_count": null,
   "metadata": {
    "scrolled": true
   },
   "outputs": [],
   "source": [
    "words_int = np.arange(1, len(dict_mapping))\n",
    "all_embeddings = word_embedding_model.predict(words_int)"
   ]
  },
  {
   "cell_type": "code",
   "execution_count": null,
   "metadata": {
    "scrolled": true
   },
   "outputs": [],
   "source": [
    "all_embeddings = all_embeddings.reshape((all_embeddings.shape[0], all_embeddings.shape[2]))"
   ]
  },
  {
   "cell_type": "code",
   "execution_count": null,
   "metadata": {
    "scrolled": true
   },
   "outputs": [],
   "source": [
    "from sklearn.manifold import TSNE\n",
    "all_embeddings_TSNE = TSNE(n_components=2).fit_transform(all_embeddings)"
   ]
  },
  {
   "cell_type": "code",
   "execution_count": null,
   "metadata": {
    "scrolled": true
   },
   "outputs": [],
   "source": [
    "most_frequent_words = [word[0] for word in sorted_word_dictionary[:500]]"
   ]
  },
  {
   "cell_type": "code",
   "execution_count": null,
   "metadata": {
    "scrolled": true
   },
   "outputs": [],
   "source": [
    "most_frequent_words_index = [dict_mapping.index(word)-1 for word in most_frequent_words]\n",
    "frequent_word_embeddings_TSNE = all_embeddings_TSNE[most_frequent_words_index]"
   ]
  },
  {
   "cell_type": "code",
   "execution_count": null,
   "metadata": {
    "scrolled": true
   },
   "outputs": [],
   "source": [
    "fig, ax = plt.subplots(figsize=(20, 20))\n",
    "ax.scatter(frequent_word_embeddings_TSNE[:, 0], frequent_word_embeddings_TSNE[:, 1])\n",
    "\n",
    "for i, txt in enumerate(dict_mapping[1:501]):\n",
    "    ax.annotate(txt, (frequent_word_embeddings_TSNE[i, 0], frequent_word_embeddings_TSNE[i, 1]))"
   ]
  },
  {
   "cell_type": "markdown",
   "metadata": {},
   "source": [
    "## Chatbot\n",
    "\n",
    "Finally, you will construct a model with which you can chat. The network will take as input a sentence and output a response.\n",
    "\n",
    "**Code** For that, you should go back to your original data and construct a new dataset containing pairs of sentences, where each pair is a sentence and its answer. Be careful to not include any pair of sentences that contains words not present in your filtered dictionary. [2 pts]\n",
    "\n",
    "**Code** You should then tokenize, padd, truncate each sentence. Only the answers need the 'START' and 'END' artificial words. [1 pt]\n",
    "\n",
    "We provide you with a possible model, you are welcome to change it. This model uses an LSTM layer to encode the first sentence (the context). The final state of this LSTM layer is transfered to initialize the state of a decoder LSTM layer from which the answer sentence will be generated. \n",
    "\n",
    "**Code** Train your chatbot model on your dataset. [1 pt]\n",
    "\n",
    "**Code** Adapt your sentence generation code from before so that you can generate an answer given a context sentence from your model. [2 pts] \n",
    "\n",
    "**Code** After training, randomly select 10 context-answers pairs from your data and show both the real answer (the one from the data) and the generated one for two different sampling temperatures (e.g. 0.5 and 1.0). [2 pts]\n",
    "\n",
    "**Question** How similar are the generated answers and the real ones? Does your model provide probable answers (given the dataset)? Report here one good and one bad example. [2 pts]\n",
    "\n",
    "**Answer**\n",
    "\n",
    "**Question** Which sampling temperature gives better answers? why? [2 pts]\n",
    "\n",
    "**Answer**\n",
    "\n",
    "**Question** Would it be good if your model was able to reproduce exactly each real answer? Why? [1 pt]\n",
    "\n",
    "**Answer**\n",
    "\n",
    "**Code** Entertain yourself with your model. Write some code to chat with your bot, let it discuss with itself, ... be creative! [2 **bonus** pts]\n",
    "\n",
    "\n"
   ]
  },
  {
   "cell_type": "markdown",
   "metadata": {},
   "source": [
    "<b>Code For that, you should go back to your original data and construct a new dataset containing pairs of sentences, where each pair is a sentence and its answer. Be careful to not include any pair of sentences that contains words not present in your filtered dictionary. [2 pts]</b>"
   ]
  },
  {
   "cell_type": "code",
   "execution_count": null,
   "metadata": {
    "scrolled": true
   },
   "outputs": [],
   "source": [
    "def filter_converstaions(conversations, rare_words):\n",
    "    \"\"\"\n",
    "    Selects question and answer pairs from conversations\n",
    "    \"\"\"\n",
    "    q_a_dataset = [[], []]\n",
    "    for conversation in conversations:\n",
    "        \n",
    "        # idetify number of question and answer in a conversation\n",
    "        nb_q_a_paris = len(conversation)//2\n",
    "        \n",
    "        for i in range(nb_q_a_paris):\n",
    "            \n",
    "            q = conversation[2*i]\n",
    "            a = conversation[2*i + 1]\n",
    "            \n",
    "            # drop them if one of them contains a word not in a dictionary\n",
    "            if contains_rare_word(q.split(), rare_words) or contains_rare_word(a.split(), rare_words):\n",
    "                continue\n",
    "            \n",
    "            q_a_dataset[0].append(q)\n",
    "            q_a_dataset[1].append(a)\n",
    "    \n",
    "    return q_a_dataset[0], q_a_dataset[1]"
   ]
  },
  {
   "cell_type": "code",
   "execution_count": null,
   "metadata": {
    "scrolled": true
   },
   "outputs": [],
   "source": [
    "q_orig , a_orig = filter_converstaions(conversations, rare_words)"
   ]
  },
  {
   "cell_type": "markdown",
   "metadata": {},
   "source": [
    "<b>Code: You should then tokenize, padd, truncate each sentence. Only the answers need the 'START' and 'END' artificial words. [1 pt]\n",
    "</b>"
   ]
  },
  {
   "cell_type": "code",
   "execution_count": null,
   "metadata": {
    "scrolled": true
   },
   "outputs": [],
   "source": [
    "def standardize_conversations(questions, answers, dict_mapping, max_len=27):\n",
    "    \"\"\"\n",
    "    Standardize the list of questions and answers to be used for training. Performs padding and truncation and converts\n",
    "    string words to corresponding integers in the list dict_mapping.\n",
    "    \n",
    "    Raises an error if number of questions is not equal to number of answers\n",
    "    :param questions: List of all questions\n",
    "    :param answers: List of corresponding answers\n",
    "    :param dict_mapping: Mapping list used for converting words to integers\n",
    "    :param max_len: Truncate sentences if they exceed max_len, otherwise padd them with zero.\n",
    "    \"\"\"\n",
    "    assert(len(questions) == len(answers))\n",
    "    \n",
    "    # lists containg standardize questions and answers\n",
    "    std_questions = []\n",
    "    std_answers   = []\n",
    "    \n",
    "    # We don't want start and end words in questions\n",
    "    for q, a in zip(questions, answers):\n",
    "        question = []\n",
    "        answer   = []\n",
    "        \n",
    "        for word in q.split():\n",
    "            question.append(dict_mapping.index(word))\n",
    "        \n",
    "        answer.append(dict_mapping.index('START'))\n",
    "        for word in a.split():\n",
    "            answer.append(dict_mapping.index(word))\n",
    "        answer.append(dict_mapping.index('END'))\n",
    "        \n",
    "        std_questions.append(question)\n",
    "        std_answers.append(answer)\n",
    "    \n",
    "    std_questions = pad_sequences(std_questions, maxlen=max_len, padding='post', truncating='post')\n",
    "    std_answers   = pad_sequences(std_answers, maxlen=max_len, padding='post', truncating='post')\n",
    "    \n",
    "    return std_questions, std_answers"
   ]
  },
  {
   "cell_type": "code",
   "execution_count": null,
   "metadata": {
    "scrolled": true
   },
   "outputs": [],
   "source": [
    "q, a = standardize_conversations(q_orig, a_orig, dict_mapping, max_len=25)"
   ]
  },
  {
   "cell_type": "markdown",
   "metadata": {},
   "source": [
    "<b> We provide you with a possible model, you are welcome to change it. This model uses an LSTM layer to encode the first sentence (the context). The final state of this LSTM layer is transfered to initialize the state of a decoder LSTM layer from which the answer sentence will be generated.\n",
    "\n",
    "Code: Train your chatbot model on your dataset. [1 pt] </b>"
   ]
  },
  {
   "cell_type": "code",
   "execution_count": null,
   "metadata": {
    "scrolled": true
   },
   "outputs": [],
   "source": [
    "# ToDO whyyyyyyyyy??????????????\n",
    "#context = Input(shape=(maxlen-2,), name=\"input_context\")\n",
    "context = Input(shape=(max_tokens,), name=\"input_context\")\n",
    "#shared_embedding = E['GRU']\n",
    "\n",
    "shared_embedding = Embedding(nb_tokens,\n",
    "                            embedding_size,\n",
    "                            mask_zero=True,\n",
    "                            weights=embeddings_pre_trained,\n",
    "                            name=\"embedding\",\n",
    "                            input_length=None,\n",
    "                            trainable=True)\n",
    "\n",
    "context_embedding = shared_embedding(context)\n",
    "\n",
    "encoder_y, encoder_h, encoder_c = LSTM(128, \n",
    "            return_sequences=False,\n",
    "            return_state=True,\n",
    "            stateful=False,\n",
    "            dropout=dropout,\n",
    "            recurrent_dropout=recurrent_dropout,\n",
    "            go_backwards=True,\n",
    "            name=\"encoder\")(context_embedding)\n",
    "\n",
    "answer = Input(shape=(max_tokens-1,), name=\"input_answer\")\n",
    "answer_embedding = shared_embedding(answer)\n",
    "\n",
    "decoder_input = answer_embedding\n",
    "decoder = LSTM(128, \n",
    "            return_sequences=True,\n",
    "            stateful=False,\n",
    "            dropout=dropout,\n",
    "            recurrent_dropout=recurrent_dropout,\n",
    "            name=\"decoder\")(answer_embedding, initial_state=[encoder_h, encoder_c])\n",
    "\n",
    "# decoder2 = LSTM(hidden_size, \n",
    "#             return_sequences=True,\n",
    "#             stateful=False,\n",
    "#             dropout=dropout,\n",
    "#             recurrent_dropout=recurrent_dropout,\n",
    "#             name=\"decoder2\")(decoder)\n",
    "\n",
    "R = TimeDistributed(Dense(embedding_size, activation='relu'), name='readout')(decoder)\n",
    "Y = TimeDistributed(Dense(nb_tokens, activation='softmax'), name='output')(R)\n",
    "\n",
    "Chatbot = Model(inputs = [context, answer], outputs = [Y])\n",
    "Chatbot.compile(\n",
    "    loss='sparse_categorical_crossentropy', \n",
    "    optimizer=Adam(),\n",
    "    metrics=['acc'])\n",
    "Chatbot.summary()"
   ]
  },
  {
   "cell_type": "code",
   "execution_count": null,
   "metadata": {
    "scrolled": false
   },
   "outputs": [],
   "source": [
    "X = np.array(q)\n",
    "A = np.array(a)\n",
    "\n",
    "T = A.reshape((A.shape[0], A.shape[1], 1))\n",
    "chatbox_log = Chatbot.fit({'input_context':X, 'input_answer':A[:, :-1]}, {'output': T[:, 1:, :]}, \n",
    "                          epochs=15,\n",
    "                          validation_split=validation_split,\n",
    "                          batch_size=batch_size,\n",
    "                         callbacks=[EarlyStopping()]).history"
   ]
  },
  {
   "cell_type": "code",
   "execution_count": null,
   "metadata": {
    "scrolled": true
   },
   "outputs": [],
   "source": [
    "fig_chatbot = plot_history(chatbox_log, \"Chatbot learning curves\")"
   ]
  },
  {
   "cell_type": "markdown",
   "metadata": {},
   "source": [
    "<b> Code Adapt your sentence generation code from before so that you can generate an answer given a context sentence from your model. [2 pts] </b>"
   ]
  },
  {
   "cell_type": "markdown",
   "metadata": {},
   "source": [
    "<b>Code After training, randomly select 10 context-answers pairs from your data and show both the real answer (the one from the data) and the generated one for two different sampling temperatures (e.g. 0.5 and 1.0). [2 pts]</b>"
   ]
  },
  {
   "cell_type": "markdown",
   "metadata": {},
   "source": [
    "<b>Code Entertain yourself with your model. Write some code to chat with your bot, let it discuss with itself, ... be creative! [2 bonus pts]</b>"
   ]
  },
  {
   "cell_type": "code",
   "execution_count": null,
   "metadata": {
    "scrolled": true
   },
   "outputs": [],
   "source": [
    "def chat_with_bot(model, query, dict_mapping, max_len=25, temperature=1.0):\n",
    "    input_query = np.array([[dict_mapping.index(word) for word in query]])\n",
    "    input_query = pad_sequences(input_query, maxlen=max_len, padding='post', truncating='post')\n",
    "    \n",
    "    response = [[dict_mapping.index('START')]]\n",
    "    response = pad_sequences(response, maxlen=max_len-1, padding='post', truncating='post')\n",
    "    \n",
    "    response_words = []\n",
    "    \n",
    "    for i in range(max_len-2):\n",
    "        preds = model.predict([input_query, response])\n",
    "        next_word = sample(preds[0][i], temperature)\n",
    "        \n",
    "        if next_word == dict_mapping.index('END'):\n",
    "            break\n",
    "        response[0, i+1] = next_word\n",
    "        response_words.append(dict_mapping[next_word])\n",
    "    \n",
    "    return \" \".join(response_words)"
   ]
  },
  {
   "cell_type": "code",
   "execution_count": null,
   "metadata": {
    "scrolled": true
   },
   "outputs": [],
   "source": [
    "# Random 10 contex-answer pairs\n",
    "index = np.random.permutation(len(q_orig))[:10]\n",
    "print(\"Temperature: 0.5\")\n",
    "for i in range(10):\n",
    "    answer_bot = chat_with_bot(Chatbot, q_orig[index[i]].split(), dict_mapping, temperature=0.5)\n",
    "    true_answer = a_orig[index[i]]\n",
    "    print(\"\\nQuestion:      {}\\nAnswer by bot: {}\\nTrue answer:   {}\".format(q_orig[index[i]], answer_bot, true_answer))"
   ]
  },
  {
   "cell_type": "code",
   "execution_count": null,
   "metadata": {
    "scrolled": true
   },
   "outputs": [],
   "source": [
    "# Random 10 contex-answer pairs\n",
    "index = np.random.permutation(len(q_orig))[:10]\n",
    "print(\"Temperature: 1.0\")\n",
    "\n",
    "for i in range(10):\n",
    "    answer_bot = chat_with_bot(Chatbot, q_orig[index[i]].split(), dict_mapping, temperature=1.0)\n",
    "    true_answer = a_orig[index[i]]\n",
    "    print(\"\\nQuestion:      {}\\nAnswer by bot: {}\\nTrue answer:   {}\".format(q_orig[index[i]], answer_bot, true_answer))"
   ]
  },
  {
   "cell_type": "code",
   "execution_count": null,
   "metadata": {
    "scrolled": true
   },
   "outputs": [],
   "source": [
    "def self_talking(model, init_thought, dict_mapping, temperature=0.75, conversation_len=100):\n",
    "    answer = init_thought\n",
    "    \n",
    "    print(\"Person 1: {}\".format(init_thought))\n",
    "    for i in range(conversation_len):\n",
    "        if i%2 == 0:\n",
    "            person = \"Person 2\"\n",
    "        else:\n",
    "            person = \"Person 1\"\n",
    "        answer = chat_with_bot(Chatbot, answer.split(), dict_mapping, temperature=temperature)\n",
    "        print(\"{}: {}\".format(person, answer))"
   ]
  },
  {
   "cell_type": "code",
   "execution_count": null,
   "metadata": {
    "scrolled": true
   },
   "outputs": [],
   "source": [
    "self_talking(Chatbot, \"hi !\", dict_mapping)"
   ]
  },
  {
   "cell_type": "code",
   "execution_count": null,
   "metadata": {
    "scrolled": true
   },
   "outputs": [],
   "source": []
  }
 ],
 "metadata": {
  "kernelspec": {
   "display_name": "Python 3",
   "language": "python",
   "name": "python3"
  },
  "language_info": {
   "codemirror_mode": {
    "name": "ipython",
    "version": 3
   },
   "file_extension": ".py",
   "mimetype": "text/x-python",
   "name": "python",
   "nbconvert_exporter": "python",
   "pygments_lexer": "ipython3",
   "version": "3.6.8"
  }
 },
 "nbformat": 4,
 "nbformat_minor": 2
}
